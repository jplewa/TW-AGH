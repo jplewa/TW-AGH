{
 "cells": [
  {
   "cell_type": "code",
   "execution_count": 352,
   "metadata": {},
   "outputs": [
    {
     "data": {
      "text/plain": [
       "['a', 'b', 'c', 'd', 'e', 'f']"
      ]
     },
     "metadata": {},
     "output_type": "display_data"
    }
   ],
   "source": [
    "# define the alphabet\n",
    "\n",
    "a = 'a'\n",
    "b = 'b'\n",
    "c = 'c'\n",
    "d = 'd'\n",
    "e = 'e'\n",
    "f = 'f'\n",
    "\n",
    "E = [a, b, c, d, e, f]\n",
    "\n",
    "display(E)"
   ]
  },
  {
   "cell_type": "code",
   "execution_count": 353,
   "metadata": {},
   "outputs": [
    {
     "data": {
      "text/plain": [
       "[('a', 'd'),\n",
       " ('d', 'a'),\n",
       " ('b', 'e'),\n",
       " ('e', 'b'),\n",
       " ('c', 'd'),\n",
       " ('d', 'c'),\n",
       " ('c', 'f'),\n",
       " ('f', 'c')]"
      ]
     },
     "metadata": {},
     "output_type": "display_data"
    }
   ],
   "source": [
    "# define the independency\n",
    "\n",
    "I = [(a, d), (d, a), \n",
    "     (b, e), (e, b), \n",
    "     (c, d), (d, c), \n",
    "     (c, f), (f, c)]\n",
    "\n",
    "display(I)"
   ]
  },
  {
   "cell_type": "code",
   "execution_count": 357,
   "metadata": {},
   "outputs": [
    {
     "data": {
      "text/plain": [
       "{'a': ['b', 'c', 'e', 'f'],\n",
       " 'b': ['a', 'c', 'd', 'f'],\n",
       " 'c': ['a', 'b', 'e'],\n",
       " 'd': ['b', 'e', 'f'],\n",
       " 'e': ['a', 'c', 'd', 'f'],\n",
       " 'f': ['a', 'b', 'd', 'e']}"
      ]
     },
     "metadata": {},
     "output_type": "display_data"
    }
   ],
   "source": [
    "# map all symbols dependent on a given symbol against the symbol itself\n",
    "\n",
    "D = \\\n",
    "{\n",
    "    symbol: \n",
    "    [\n",
    "        dependency for dependency in E \n",
    "        if dependency not in\n",
    "        [\n",
    "            e2 for e1, e2 in I if e1 == symbol\n",
    "        ]\n",
    "        and dependency != symbol\n",
    "    ] for symbol in E\n",
    "}\n",
    "\n",
    "display(D)"
   ]
  },
  {
   "cell_type": "code",
   "execution_count": 355,
   "metadata": {},
   "outputs": [
    {
     "data": {
      "text/plain": [
       "{'a': [], 'b': [], 'c': [], 'd': [], 'e': [], 'f': []}"
      ]
     },
     "metadata": {},
     "output_type": "display_data"
    }
   ],
   "source": [
    "# create an empty stack for each symbol\n",
    "\n",
    "STACKS = {symbol: [] for symbol in E}\n",
    "\n",
    "display(STACKS)"
   ]
  },
  {
   "cell_type": "code",
   "execution_count": 356,
   "metadata": {},
   "outputs": [
    {
     "data": {
      "text/plain": [
       "['e', 'b', 'b', 'f', 'c', 'd', 'c', 'a']"
      ]
     },
     "metadata": {},
     "output_type": "display_data"
    }
   ],
   "source": [
    "# define your word (as a string), convert it to a list, and reverse it\n",
    "\n",
    "WORD = 'acdcfbbe'\n",
    "WORD = list(WORD)\n",
    "WORD.reverse()\n",
    "\n",
    "display(WORD)"
   ]
  },
  {
   "cell_type": "code",
   "execution_count": 349,
   "metadata": {},
   "outputs": [
    {
     "data": {
      "text/plain": [
       "{'a': ['*', '*', '*', '*', '*', '*', 'a'],\n",
       " 'b': ['b', 'b', '*', '*', '*', '*', '*'],\n",
       " 'c': ['*', '*', '*', 'c', 'c', '*'],\n",
       " 'd': ['*', '*', '*', '*', 'd'],\n",
       " 'e': ['e', '*', '*', '*', '*', '*'],\n",
       " 'f': ['*', '*', '*', 'f', '*', '*']}"
      ]
     },
     "metadata": {},
     "output_type": "display_data"
    }
   ],
   "source": [
    "# fill the stacks\n",
    "\n",
    "for letter in WORD:\n",
    "    STACKS[letter].append(letter)\n",
    "    for dependency in D[letter]:\n",
    "        STACKS[dependency].append('*')\n",
    "        \n",
    "display(STACKS)"
   ]
  },
  {
   "cell_type": "code",
   "execution_count": 350,
   "metadata": {},
   "outputs": [
    {
     "name": "stdout",
     "output_type": "stream",
     "text": [
      "(a, d, )\n",
      "(c, f, )\n",
      "(c, )\n",
      "(b, e, )\n",
      "(b, )\n"
     ]
    }
   ],
   "source": [
    "# print out the Foata normal form\n",
    "\n",
    "while any(STACKS.values()):\n",
    "    print('(', end='')\n",
    "    for symbol in [k for k, v in STACKS.items() if v != [] and v[-1] != '*']:\n",
    "        print(symbol, end=', ')\n",
    "        STACKS[symbol].pop()\n",
    "        for dependency in D[symbol]:\n",
    "            STACKS[dependency].pop()\n",
    "    print(')')"
   ]
  },
  {
   "cell_type": "code",
   "execution_count": 351,
   "metadata": {},
   "outputs": [
    {
     "data": {
      "text/plain": [
       "{'a': [], 'b': [], 'c': [], 'd': [], 'e': [], 'f': []}"
      ]
     },
     "metadata": {},
     "output_type": "display_data"
    }
   ],
   "source": [
    "# check just in case\n",
    "\n",
    "display(STACKS)"
   ]
  },
  {
   "cell_type": "code",
   "execution_count": null,
   "metadata": {},
   "outputs": [],
   "source": []
  }
 ],
 "metadata": {
  "kernelspec": {
   "display_name": "Python 3",
   "language": "python",
   "name": "python3"
  },
  "language_info": {
   "codemirror_mode": {
    "name": "ipython",
    "version": 3
   },
   "file_extension": ".py",
   "mimetype": "text/x-python",
   "name": "python",
   "nbconvert_exporter": "python",
   "pygments_lexer": "ipython3",
   "version": "3.6.7"
  }
 },
 "nbformat": 4,
 "nbformat_minor": 2
}
